{
 "cells": [
  {
   "cell_type": "code",
   "execution_count": 2,
   "metadata": {},
   "outputs": [
    {
     "name": "stderr",
     "output_type": "stream",
     "text": [
      "Importing plotly failed. Interactive plots will not work.\n"
     ]
    }
   ],
   "source": [
    "import pandas as pd\n",
    "import matplotlib.pyplot as plt\n",
    "from ydata_profiling import ProfileReport\n",
    "\n",
    "from prophet import Prophet\n",
    "\n",
    "# import matplotlib\n",
    "# matplotlib.use('WebAgg')\n"
   ]
  },
  {
   "cell_type": "code",
   "execution_count": 3,
   "metadata": {},
   "outputs": [
    {
     "data": {
      "text/html": [
       "<div>\n",
       "<style scoped>\n",
       "    .dataframe tbody tr th:only-of-type {\n",
       "        vertical-align: middle;\n",
       "    }\n",
       "\n",
       "    .dataframe tbody tr th {\n",
       "        vertical-align: top;\n",
       "    }\n",
       "\n",
       "    .dataframe thead th {\n",
       "        text-align: right;\n",
       "    }\n",
       "</style>\n",
       "<table border=\"1\" class=\"dataframe\">\n",
       "  <thead>\n",
       "    <tr style=\"text-align: right;\">\n",
       "      <th></th>\n",
       "      <th>carrier</th>\n",
       "      <th>date</th>\n",
       "      <th>cost</th>\n",
       "    </tr>\n",
       "  </thead>\n",
       "  <tbody>\n",
       "    <tr>\n",
       "      <th>0</th>\n",
       "      <td>UPS</td>\n",
       "      <td>2018-01-01</td>\n",
       "      <td>528000.0</td>\n",
       "    </tr>\n",
       "    <tr>\n",
       "      <th>1</th>\n",
       "      <td>UPS</td>\n",
       "      <td>2018-02-01</td>\n",
       "      <td>500000.0</td>\n",
       "    </tr>\n",
       "    <tr>\n",
       "      <th>2</th>\n",
       "      <td>UPS</td>\n",
       "      <td>2018-03-01</td>\n",
       "      <td>550000.0</td>\n",
       "    </tr>\n",
       "    <tr>\n",
       "      <th>3</th>\n",
       "      <td>UPS</td>\n",
       "      <td>2018-04-01</td>\n",
       "      <td>488000.0</td>\n",
       "    </tr>\n",
       "    <tr>\n",
       "      <th>4</th>\n",
       "      <td>UPS</td>\n",
       "      <td>2018-05-01</td>\n",
       "      <td>490000.0</td>\n",
       "    </tr>\n",
       "  </tbody>\n",
       "</table>\n",
       "</div>"
      ],
      "text/plain": [
       "  carrier       date      cost\n",
       "0     UPS 2018-01-01  528000.0\n",
       "1     UPS 2018-02-01  500000.0\n",
       "2     UPS 2018-03-01  550000.0\n",
       "3     UPS 2018-04-01  488000.0\n",
       "4     UPS 2018-05-01  490000.0"
      ]
     },
     "execution_count": 3,
     "metadata": {},
     "output_type": "execute_result"
    }
   ],
   "source": [
    "input_path = r'..\\data\\freight_data.csv'\n",
    "new_input_path = r'..\\data\\2023_09_15_freight_data.csv'\n",
    "\n",
    "raw_data = pd.read_csv(new_input_path, sep=',', parse_dates=['Date'])\n",
    "raw_data.columns = [col.lower() for col in raw_data.columns]\n",
    "raw_data.rename(\n",
    "    mapper={column: column.lower() for column in raw_data.columns},\n",
    ")\n",
    "raw_data.head()"
   ]
  },
  {
   "cell_type": "code",
   "execution_count": 4,
   "metadata": {},
   "outputs": [
    {
     "data": {
      "text/plain": [
       "(120, 3)"
      ]
     },
     "execution_count": 4,
     "metadata": {},
     "output_type": "execute_result"
    }
   ],
   "source": [
    "raw_data.shape"
   ]
  },
  {
   "cell_type": "code",
   "execution_count": 5,
   "metadata": {},
   "outputs": [
    {
     "data": {
      "text/plain": [
       "(120, 3)"
      ]
     },
     "execution_count": 5,
     "metadata": {},
     "output_type": "execute_result"
    }
   ],
   "source": [
    "raw_data.drop_duplicates(inplace=True)\n",
    "raw_data.shape"
   ]
  },
  {
   "cell_type": "code",
   "execution_count": 6,
   "metadata": {},
   "outputs": [
    {
     "data": {
      "text/html": [
       "<div>\n",
       "<style scoped>\n",
       "    .dataframe tbody tr th:only-of-type {\n",
       "        vertical-align: middle;\n",
       "    }\n",
       "\n",
       "    .dataframe tbody tr th {\n",
       "        vertical-align: top;\n",
       "    }\n",
       "\n",
       "    .dataframe thead th {\n",
       "        text-align: right;\n",
       "    }\n",
       "</style>\n",
       "<table border=\"1\" class=\"dataframe\">\n",
       "  <thead>\n",
       "    <tr style=\"text-align: right;\">\n",
       "      <th></th>\n",
       "      <th>carrier</th>\n",
       "      <th>date</th>\n",
       "      <th>cost</th>\n",
       "    </tr>\n",
       "  </thead>\n",
       "  <tbody>\n",
       "    <tr>\n",
       "      <th>0</th>\n",
       "      <td>UPS</td>\n",
       "      <td>2018-01-01</td>\n",
       "      <td>528000.0</td>\n",
       "    </tr>\n",
       "    <tr>\n",
       "      <th>1</th>\n",
       "      <td>UPS</td>\n",
       "      <td>2018-02-01</td>\n",
       "      <td>500000.0</td>\n",
       "    </tr>\n",
       "    <tr>\n",
       "      <th>2</th>\n",
       "      <td>UPS</td>\n",
       "      <td>2018-03-01</td>\n",
       "      <td>550000.0</td>\n",
       "    </tr>\n",
       "    <tr>\n",
       "      <th>3</th>\n",
       "      <td>UPS</td>\n",
       "      <td>2018-04-01</td>\n",
       "      <td>488000.0</td>\n",
       "    </tr>\n",
       "    <tr>\n",
       "      <th>4</th>\n",
       "      <td>UPS</td>\n",
       "      <td>2018-05-01</td>\n",
       "      <td>490000.0</td>\n",
       "    </tr>\n",
       "  </tbody>\n",
       "</table>\n",
       "</div>"
      ],
      "text/plain": [
       "  carrier       date      cost\n",
       "0     UPS 2018-01-01  528000.0\n",
       "1     UPS 2018-02-01  500000.0\n",
       "2     UPS 2018-03-01  550000.0\n",
       "3     UPS 2018-04-01  488000.0\n",
       "4     UPS 2018-05-01  490000.0"
      ]
     },
     "execution_count": 6,
     "metadata": {},
     "output_type": "execute_result"
    }
   ],
   "source": [
    "raw_data.head()"
   ]
  },
  {
   "cell_type": "code",
   "execution_count": 7,
   "metadata": {},
   "outputs": [
    {
     "data": {
      "text/html": [
       "<div>\n",
       "<style scoped>\n",
       "    .dataframe tbody tr th:only-of-type {\n",
       "        vertical-align: middle;\n",
       "    }\n",
       "\n",
       "    .dataframe tbody tr th {\n",
       "        vertical-align: top;\n",
       "    }\n",
       "\n",
       "    .dataframe thead th {\n",
       "        text-align: right;\n",
       "    }\n",
       "</style>\n",
       "<table border=\"1\" class=\"dataframe\">\n",
       "  <thead>\n",
       "    <tr style=\"text-align: right;\">\n",
       "      <th></th>\n",
       "      <th>date</th>\n",
       "      <th>cost</th>\n",
       "    </tr>\n",
       "  </thead>\n",
       "  <tbody>\n",
       "    <tr>\n",
       "      <th>count</th>\n",
       "      <td>120</td>\n",
       "      <td>1.200000e+02</td>\n",
       "    </tr>\n",
       "    <tr>\n",
       "      <th>mean</th>\n",
       "      <td>2020-06-16 01:36:00</td>\n",
       "      <td>5.193405e+05</td>\n",
       "    </tr>\n",
       "    <tr>\n",
       "      <th>min</th>\n",
       "      <td>2018-01-01 00:00:00</td>\n",
       "      <td>2.000000e+05</td>\n",
       "    </tr>\n",
       "    <tr>\n",
       "      <th>25%</th>\n",
       "      <td>2019-03-24 06:00:00</td>\n",
       "      <td>3.624500e+05</td>\n",
       "    </tr>\n",
       "    <tr>\n",
       "      <th>50%</th>\n",
       "      <td>2020-06-16 00:00:00</td>\n",
       "      <td>4.975000e+05</td>\n",
       "    </tr>\n",
       "    <tr>\n",
       "      <th>75%</th>\n",
       "      <td>2021-09-08 12:00:00</td>\n",
       "      <td>6.491320e+05</td>\n",
       "    </tr>\n",
       "    <tr>\n",
       "      <th>max</th>\n",
       "      <td>2022-12-01 00:00:00</td>\n",
       "      <td>1.171280e+06</td>\n",
       "    </tr>\n",
       "    <tr>\n",
       "      <th>std</th>\n",
       "      <td>NaN</td>\n",
       "      <td>1.948308e+05</td>\n",
       "    </tr>\n",
       "  </tbody>\n",
       "</table>\n",
       "</div>"
      ],
      "text/plain": [
       "                      date          cost\n",
       "count                  120  1.200000e+02\n",
       "mean   2020-06-16 01:36:00  5.193405e+05\n",
       "min    2018-01-01 00:00:00  2.000000e+05\n",
       "25%    2019-03-24 06:00:00  3.624500e+05\n",
       "50%    2020-06-16 00:00:00  4.975000e+05\n",
       "75%    2021-09-08 12:00:00  6.491320e+05\n",
       "max    2022-12-01 00:00:00  1.171280e+06\n",
       "std                    NaN  1.948308e+05"
      ]
     },
     "execution_count": 7,
     "metadata": {},
     "output_type": "execute_result"
    }
   ],
   "source": [
    "raw_data.describe()"
   ]
  },
  {
   "cell_type": "code",
   "execution_count": 8,
   "metadata": {},
   "outputs": [],
   "source": [
    "profile = ProfileReport(raw_data, minimal=False, title='Raw Data Exploratory Analysis')"
   ]
  },
  {
   "cell_type": "code",
   "execution_count": 9,
   "metadata": {},
   "outputs": [
    {
     "data": {
      "application/vnd.jupyter.widget-view+json": {
       "model_id": "1e14a76c6f5f47568a02ec6f4f202bbe",
       "version_major": 2,
       "version_minor": 0
      },
      "text/plain": [
       "Summarize dataset:   0%|          | 0/5 [00:00<?, ?it/s]"
      ]
     },
     "metadata": {},
     "output_type": "display_data"
    },
    {
     "data": {
      "application/vnd.jupyter.widget-view+json": {
       "model_id": "5e397d30268e44048289a3f8750c3a39",
       "version_major": 2,
       "version_minor": 0
      },
      "text/plain": [
       "Generate report structure:   0%|          | 0/1 [00:00<?, ?it/s]"
      ]
     },
     "metadata": {},
     "output_type": "display_data"
    },
    {
     "data": {
      "application/vnd.jupyter.widget-view+json": {
       "model_id": "f2b265292d5e40b2be208293bc26fc50",
       "version_major": 2,
       "version_minor": 0
      },
      "text/plain": [
       "Render widgets:   0%|          | 0/1 [00:00<?, ?it/s]"
      ]
     },
     "metadata": {},
     "output_type": "display_data"
    },
    {
     "data": {
      "application/vnd.jupyter.widget-view+json": {
       "model_id": "4bf617fcf4df4f89896d9f8074e9bab8",
       "version_major": 2,
       "version_minor": 0
      },
      "text/plain": [
       "VBox(children=(Tab(children=(Tab(children=(GridBox(children=(VBox(children=(GridspecLayout(children=(HTML(valu…"
      ]
     },
     "metadata": {},
     "output_type": "display_data"
    }
   ],
   "source": [
    "profile.to_widgets()"
   ]
  },
  {
   "cell_type": "code",
   "execution_count": 10,
   "metadata": {},
   "outputs": [],
   "source": [
    "# plt.scatter(x='date', y='cost', data=raw_data)\n",
    "# plt.legend()\n",
    "# plt.show()"
   ]
  },
  {
   "cell_type": "code",
   "execution_count": 11,
   "metadata": {},
   "outputs": [],
   "source": [
    "import matplotlib.dates as mdates\n",
    "import matplotlib\n",
    "matplotlib.use('TkAgg')\n",
    "\n",
    "plt.hist(raw_data.date, bins=45)\n",
    "plt.title('Distrubution of dates in the dataset')\n",
    "plt.xticks(rotation=45, ha='right')\n",
    "plt.show()"
   ]
  },
  {
   "cell_type": "markdown",
   "metadata": {},
   "source": [
    "# Modeling"
   ]
  },
  {
   "cell_type": "code",
   "execution_count": 12,
   "metadata": {},
   "outputs": [
    {
     "name": "stdout",
     "output_type": "stream",
     "text": [
      "ups_data.shape=(60, 3)\n",
      "fdxg_data.shape=(60, 3)\n"
     ]
    }
   ],
   "source": [
    "ups_data = raw_data.loc[raw_data.carrier=='UPS']\n",
    "fdxg_data = raw_data.loc[raw_data.carrier=='FDXG']\n",
    "print(f'{ups_data.shape=}')\n",
    "print(f'{fdxg_data.shape=}')"
   ]
  },
  {
   "cell_type": "markdown",
   "metadata": {},
   "source": [
    "## UPS data"
   ]
  },
  {
   "cell_type": "code",
   "execution_count": 13,
   "metadata": {},
   "outputs": [
    {
     "data": {
      "text/html": [
       "<div>\n",
       "<style scoped>\n",
       "    .dataframe tbody tr th:only-of-type {\n",
       "        vertical-align: middle;\n",
       "    }\n",
       "\n",
       "    .dataframe tbody tr th {\n",
       "        vertical-align: top;\n",
       "    }\n",
       "\n",
       "    .dataframe thead th {\n",
       "        text-align: right;\n",
       "    }\n",
       "</style>\n",
       "<table border=\"1\" class=\"dataframe\">\n",
       "  <thead>\n",
       "    <tr style=\"text-align: right;\">\n",
       "      <th></th>\n",
       "      <th>ds</th>\n",
       "      <th>y</th>\n",
       "    </tr>\n",
       "  </thead>\n",
       "  <tbody>\n",
       "    <tr>\n",
       "      <th>0</th>\n",
       "      <td>2018-01-01</td>\n",
       "      <td>528000.0</td>\n",
       "    </tr>\n",
       "    <tr>\n",
       "      <th>1</th>\n",
       "      <td>2018-02-01</td>\n",
       "      <td>500000.0</td>\n",
       "    </tr>\n",
       "    <tr>\n",
       "      <th>2</th>\n",
       "      <td>2018-03-01</td>\n",
       "      <td>550000.0</td>\n",
       "    </tr>\n",
       "    <tr>\n",
       "      <th>3</th>\n",
       "      <td>2018-04-01</td>\n",
       "      <td>488000.0</td>\n",
       "    </tr>\n",
       "    <tr>\n",
       "      <th>4</th>\n",
       "      <td>2018-05-01</td>\n",
       "      <td>490000.0</td>\n",
       "    </tr>\n",
       "  </tbody>\n",
       "</table>\n",
       "</div>"
      ],
      "text/plain": [
       "          ds         y\n",
       "0 2018-01-01  528000.0\n",
       "1 2018-02-01  500000.0\n",
       "2 2018-03-01  550000.0\n",
       "3 2018-04-01  488000.0\n",
       "4 2018-05-01  490000.0"
      ]
     },
     "execution_count": 13,
     "metadata": {},
     "output_type": "execute_result"
    }
   ],
   "source": [
    "def format_data(data: pd.DataFrame) -> pd.DataFrame:\n",
    "    return data\\\n",
    "        .rename(\n",
    "            mapper={\n",
    "                'date': 'ds',\n",
    "                'cost': 'y'\n",
    "            },\n",
    "            axis=1,\n",
    "        )\\\n",
    "        .drop('carrier', axis=1)\n",
    "\n",
    "def train_test_split(data: pd.DataFrame, test_length=int):\n",
    "    '''preprocesses data and returns train and test dataframes'''\n",
    "\n",
    "    clean_data = format_data(data)\n",
    "    train = clean_data[:-test_length]\n",
    "    test = clean_data[-test_length:]\n",
    "\n",
    "    return train, test\n",
    "\n",
    "\n",
    "ups_train, ups_test = train_test_split(ups_data, 12)\n",
    "fdxg_train, fdxg_test = train_test_split(fdxg_data, 12)\n",
    "ups_train.head()"
   ]
  },
  {
   "cell_type": "code",
   "execution_count": 14,
   "metadata": {},
   "outputs": [
    {
     "name": "stderr",
     "output_type": "stream",
     "text": [
      "06:41:47 - cmdstanpy - INFO - Chain [1] start processing\n",
      "06:41:48 - cmdstanpy - INFO - Chain [1] done processing\n",
      "06:41:48 - cmdstanpy - INFO - Chain [1] start processing\n",
      "06:41:49 - cmdstanpy - INFO - Chain [1] done processing\n"
     ]
    }
   ],
   "source": [
    "def train_prophet(train: pd.DataFrame, test: pd.DataFrame):\n",
    "    '''\n",
    "    Function sets up model, trains it and predicts\n",
    "    \n",
    "    Returns a model and the predictions dataframe\n",
    "    '''\n",
    "    \n",
    "    model = Prophet()\n",
    "    model.fit(train)\n",
    "    future_data = model.make_future_dataframe(periods=12, freq='MS')\n",
    "    predictions = model.predict(future_data)\n",
    "    return model, predictions\n",
    "\n",
    "\n",
    "ups_model, ups_predictions = train_prophet(ups_train, ups_test)\n",
    "fdxg_model, fdxg_predictions = train_prophet(fdxg_train, fdxg_test)\n"
   ]
  },
  {
   "cell_type": "code",
   "execution_count": 15,
   "metadata": {},
   "outputs": [],
   "source": [
    "def plot_predictions(train, test, predictions, model, carrier) -> None:\n",
    "    '''plots a model for a given set of data'''\n",
    "\n",
    "    fig = model.plot(predictions, xlabel='date', ylabel='feight_costs')\n",
    "    plt.plot(test.ds, test.y, color='red', label='actual test values')\n",
    "    plt.plot(train.ds, train.y, color='green', label='actual train values')\n",
    "    plt.title(f'{carrier} model predictions with Prophet')\n",
    "    plt.legend()\n",
    "    plt.show()"
   ]
  },
  {
   "cell_type": "code",
   "execution_count": 16,
   "metadata": {},
   "outputs": [],
   "source": [
    "plot_predictions(ups_train, ups_test, ups_predictions, ups_model, 'UPS')"
   ]
  },
  {
   "cell_type": "code",
   "execution_count": 17,
   "metadata": {},
   "outputs": [],
   "source": [
    "plot_predictions(fdxg_train, fdxg_test, fdxg_predictions, fdxg_model, 'FDXG')"
   ]
  },
  {
   "cell_type": "code",
   "execution_count": 18,
   "metadata": {},
   "outputs": [],
   "source": [
    "def plot_components(model, predictions, carrier):\n",
    "    model.plot_components(predictions)\n",
    "    plt.title(f'{carrier} time series components')\n",
    "    plt.legend()\n",
    "    plt.show()"
   ]
  },
  {
   "cell_type": "code",
   "execution_count": 19,
   "metadata": {},
   "outputs": [
    {
     "name": "stderr",
     "output_type": "stream",
     "text": [
      "No artists with labels found to put in legend.  Note that artists whose label start with an underscore are ignored when legend() is called with no argument.\n"
     ]
    }
   ],
   "source": [
    "plot_components(ups_model, ups_predictions, 'UPS')"
   ]
  },
  {
   "cell_type": "code",
   "execution_count": 20,
   "metadata": {},
   "outputs": [
    {
     "name": "stderr",
     "output_type": "stream",
     "text": [
      "No artists with labels found to put in legend.  Note that artists whose label start with an underscore are ignored when legend() is called with no argument.\n"
     ]
    }
   ],
   "source": [
    "plot_components(fdxg_model, fdxg_predictions, 'FDXG')"
   ]
  },
  {
   "cell_type": "code",
   "execution_count": 21,
   "metadata": {},
   "outputs": [
    {
     "name": "stdout",
     "output_type": "stream",
     "text": [
      "UPS error mean squared error on test: 1032.94\n",
      "FDXG error mean squared error on test: 275.03\n"
     ]
    }
   ],
   "source": [
    "import numpy as np\n",
    "def calculate_error(predictions, actual):\n",
    "    true_values = actual.y.to_numpy()\n",
    "    predicted_values = predictions[-12:].yhat.to_numpy()\n",
    "\n",
    "    rmse = np.sqrt(np.mean(predicted_values - true_values)**2)\n",
    "    return np.round(rmse, 2)\n",
    "\n",
    "print(f'UPS error mean squared error on test: {calculate_error(ups_predictions, ups_test)}')\n",
    "print(f'FDXG error mean squared error on test: {calculate_error(fdxg_predictions, fdxg_test)}')"
   ]
  },
  {
   "cell_type": "code",
   "execution_count": 22,
   "metadata": {},
   "outputs": [
    {
     "data": {
      "text/html": [
       "<div>\n",
       "<style scoped>\n",
       "    .dataframe tbody tr th:only-of-type {\n",
       "        vertical-align: middle;\n",
       "    }\n",
       "\n",
       "    .dataframe tbody tr th {\n",
       "        vertical-align: top;\n",
       "    }\n",
       "\n",
       "    .dataframe thead th {\n",
       "        text-align: right;\n",
       "    }\n",
       "</style>\n",
       "<table border=\"1\" class=\"dataframe\">\n",
       "  <thead>\n",
       "    <tr style=\"text-align: right;\">\n",
       "      <th></th>\n",
       "      <th>ds</th>\n",
       "      <th>yhat</th>\n",
       "      <th>y</th>\n",
       "      <th>difference</th>\n",
       "    </tr>\n",
       "  </thead>\n",
       "  <tbody>\n",
       "    <tr>\n",
       "      <th>0</th>\n",
       "      <td>2022-01-01</td>\n",
       "      <td>763382.0</td>\n",
       "      <td>773045.0</td>\n",
       "      <td>-9663.0</td>\n",
       "    </tr>\n",
       "    <tr>\n",
       "      <th>1</th>\n",
       "      <td>2022-02-01</td>\n",
       "      <td>732077.0</td>\n",
       "      <td>732050.0</td>\n",
       "      <td>27.0</td>\n",
       "    </tr>\n",
       "    <tr>\n",
       "      <th>2</th>\n",
       "      <td>2022-03-01</td>\n",
       "      <td>794126.0</td>\n",
       "      <td>805255.0</td>\n",
       "      <td>-11129.0</td>\n",
       "    </tr>\n",
       "    <tr>\n",
       "      <th>3</th>\n",
       "      <td>2022-04-01</td>\n",
       "      <td>723520.0</td>\n",
       "      <td>714481.0</td>\n",
       "      <td>9039.0</td>\n",
       "    </tr>\n",
       "    <tr>\n",
       "      <th>4</th>\n",
       "      <td>2022-05-01</td>\n",
       "      <td>725477.0</td>\n",
       "      <td>717409.0</td>\n",
       "      <td>8068.0</td>\n",
       "    </tr>\n",
       "    <tr>\n",
       "      <th>5</th>\n",
       "      <td>2022-06-01</td>\n",
       "      <td>680596.0</td>\n",
       "      <td>658845.0</td>\n",
       "      <td>21751.0</td>\n",
       "    </tr>\n",
       "    <tr>\n",
       "      <th>6</th>\n",
       "      <td>2022-07-01</td>\n",
       "      <td>625259.0</td>\n",
       "      <td>585640.0</td>\n",
       "      <td>39619.0</td>\n",
       "    </tr>\n",
       "    <tr>\n",
       "      <th>7</th>\n",
       "      <td>2022-08-01</td>\n",
       "      <td>655396.0</td>\n",
       "      <td>622242.0</td>\n",
       "      <td>33154.0</td>\n",
       "    </tr>\n",
       "    <tr>\n",
       "      <th>8</th>\n",
       "      <td>2022-09-01</td>\n",
       "      <td>666790.0</td>\n",
       "      <td>633955.0</td>\n",
       "      <td>32835.0</td>\n",
       "    </tr>\n",
       "    <tr>\n",
       "      <th>9</th>\n",
       "      <td>2022-10-01</td>\n",
       "      <td>846443.0</td>\n",
       "      <td>863819.0</td>\n",
       "      <td>-17376.0</td>\n",
       "    </tr>\n",
       "    <tr>\n",
       "      <th>10</th>\n",
       "      <td>2022-11-01</td>\n",
       "      <td>916651.0</td>\n",
       "      <td>951665.0</td>\n",
       "      <td>-35014.0</td>\n",
       "    </tr>\n",
       "    <tr>\n",
       "      <th>11</th>\n",
       "      <td>2022-12-01</td>\n",
       "      <td>1087576.0</td>\n",
       "      <td>1171280.0</td>\n",
       "      <td>-83704.0</td>\n",
       "    </tr>\n",
       "  </tbody>\n",
       "</table>\n",
       "</div>"
      ],
      "text/plain": [
       "           ds       yhat          y  difference\n",
       "0  2022-01-01   763382.0   773045.0     -9663.0\n",
       "1  2022-02-01   732077.0   732050.0        27.0\n",
       "2  2022-03-01   794126.0   805255.0    -11129.0\n",
       "3  2022-04-01   723520.0   714481.0      9039.0\n",
       "4  2022-05-01   725477.0   717409.0      8068.0\n",
       "5  2022-06-01   680596.0   658845.0     21751.0\n",
       "6  2022-07-01   625259.0   585640.0     39619.0\n",
       "7  2022-08-01   655396.0   622242.0     33154.0\n",
       "8  2022-09-01   666790.0   633955.0     32835.0\n",
       "9  2022-10-01   846443.0   863819.0    -17376.0\n",
       "10 2022-11-01   916651.0   951665.0    -35014.0\n",
       "11 2022-12-01  1087576.0  1171280.0    -83704.0"
      ]
     },
     "execution_count": 22,
     "metadata": {},
     "output_type": "execute_result"
    }
   ],
   "source": [
    "ups_test_predictions = pd.merge(\n",
    "    left=ups_predictions[['ds', 'yhat']],\n",
    "    right=ups_test[['ds', 'y']],\n",
    "    how='inner',\n",
    "    on='ds'\n",
    ")\n",
    "\n",
    "ups_test_predictions.y = ups_test_predictions.y.round(0)\n",
    "ups_test_predictions.yhat = ups_test_predictions.yhat.round(0)\n",
    "ups_test_predictions['difference'] = ups_test_predictions.yhat - ups_test_predictions.y\n",
    "ups_test_predictions"
   ]
  },
  {
   "cell_type": "code",
   "execution_count": 26,
   "metadata": {},
   "outputs": [
    {
     "data": {
      "text/html": [
       "<div>\n",
       "<style scoped>\n",
       "    .dataframe tbody tr th:only-of-type {\n",
       "        vertical-align: middle;\n",
       "    }\n",
       "\n",
       "    .dataframe tbody tr th {\n",
       "        vertical-align: top;\n",
       "    }\n",
       "\n",
       "    .dataframe thead th {\n",
       "        text-align: right;\n",
       "    }\n",
       "</style>\n",
       "<table border=\"1\" class=\"dataframe\">\n",
       "  <thead>\n",
       "    <tr style=\"text-align: right;\">\n",
       "      <th></th>\n",
       "      <th>ds</th>\n",
       "      <th>trend</th>\n",
       "      <th>yhat_lower</th>\n",
       "      <th>yhat_upper</th>\n",
       "      <th>trend_lower</th>\n",
       "      <th>trend_upper</th>\n",
       "      <th>additive_terms</th>\n",
       "      <th>additive_terms_lower</th>\n",
       "      <th>additive_terms_upper</th>\n",
       "      <th>yearly</th>\n",
       "      <th>yearly_lower</th>\n",
       "      <th>yearly_upper</th>\n",
       "      <th>multiplicative_terms</th>\n",
       "      <th>multiplicative_terms_lower</th>\n",
       "      <th>multiplicative_terms_upper</th>\n",
       "      <th>yhat</th>\n",
       "    </tr>\n",
       "  </thead>\n",
       "  <tbody>\n",
       "    <tr>\n",
       "      <th>0</th>\n",
       "      <td>2018-01-01</td>\n",
       "      <td>511461.772800</td>\n",
       "      <td>516858.179338</td>\n",
       "      <td>546242.510470</td>\n",
       "      <td>511461.772800</td>\n",
       "      <td>511461.772800</td>\n",
       "      <td>20495.376880</td>\n",
       "      <td>20495.376880</td>\n",
       "      <td>20495.376880</td>\n",
       "      <td>20495.376880</td>\n",
       "      <td>20495.376880</td>\n",
       "      <td>20495.376880</td>\n",
       "      <td>0.0</td>\n",
       "      <td>0.0</td>\n",
       "      <td>0.0</td>\n",
       "      <td>531957.149680</td>\n",
       "    </tr>\n",
       "    <tr>\n",
       "      <th>1</th>\n",
       "      <td>2018-02-01</td>\n",
       "      <td>515375.970154</td>\n",
       "      <td>484148.217112</td>\n",
       "      <td>513999.798053</td>\n",
       "      <td>515375.970154</td>\n",
       "      <td>515375.970154</td>\n",
       "      <td>-16673.693264</td>\n",
       "      <td>-16673.693264</td>\n",
       "      <td>-16673.693264</td>\n",
       "      <td>-16673.693264</td>\n",
       "      <td>-16673.693264</td>\n",
       "      <td>-16673.693264</td>\n",
       "      <td>0.0</td>\n",
       "      <td>0.0</td>\n",
       "      <td>0.0</td>\n",
       "      <td>498702.276890</td>\n",
       "    </tr>\n",
       "    <tr>\n",
       "      <th>2</th>\n",
       "      <td>2018-03-01</td>\n",
       "      <td>518911.374191</td>\n",
       "      <td>545555.384611</td>\n",
       "      <td>573116.559964</td>\n",
       "      <td>518911.374191</td>\n",
       "      <td>518911.374191</td>\n",
       "      <td>40079.151032</td>\n",
       "      <td>40079.151032</td>\n",
       "      <td>40079.151032</td>\n",
       "      <td>40079.151032</td>\n",
       "      <td>40079.151032</td>\n",
       "      <td>40079.151032</td>\n",
       "      <td>0.0</td>\n",
       "      <td>0.0</td>\n",
       "      <td>0.0</td>\n",
       "      <td>558990.525222</td>\n",
       "    </tr>\n",
       "    <tr>\n",
       "      <th>3</th>\n",
       "      <td>2018-04-01</td>\n",
       "      <td>522825.571517</td>\n",
       "      <td>472039.701769</td>\n",
       "      <td>501049.028019</td>\n",
       "      <td>522825.571517</td>\n",
       "      <td>522825.571517</td>\n",
       "      <td>-36390.263478</td>\n",
       "      <td>-36390.263478</td>\n",
       "      <td>-36390.263478</td>\n",
       "      <td>-36390.263478</td>\n",
       "      <td>-36390.263478</td>\n",
       "      <td>-36390.263478</td>\n",
       "      <td>0.0</td>\n",
       "      <td>0.0</td>\n",
       "      <td>0.0</td>\n",
       "      <td>486435.308039</td>\n",
       "    </tr>\n",
       "    <tr>\n",
       "      <th>4</th>\n",
       "      <td>2018-05-01</td>\n",
       "      <td>526613.504373</td>\n",
       "      <td>471942.593207</td>\n",
       "      <td>501659.444397</td>\n",
       "      <td>526613.504373</td>\n",
       "      <td>526613.504373</td>\n",
       "      <td>-40108.780639</td>\n",
       "      <td>-40108.780639</td>\n",
       "      <td>-40108.780639</td>\n",
       "      <td>-40108.780639</td>\n",
       "      <td>-40108.780639</td>\n",
       "      <td>-40108.780639</td>\n",
       "      <td>0.0</td>\n",
       "      <td>0.0</td>\n",
       "      <td>0.0</td>\n",
       "      <td>486504.723735</td>\n",
       "    </tr>\n",
       "  </tbody>\n",
       "</table>\n",
       "</div>"
      ],
      "text/plain": [
       "          ds          trend     yhat_lower     yhat_upper    trend_lower  \\\n",
       "0 2018-01-01  511461.772800  516858.179338  546242.510470  511461.772800   \n",
       "1 2018-02-01  515375.970154  484148.217112  513999.798053  515375.970154   \n",
       "2 2018-03-01  518911.374191  545555.384611  573116.559964  518911.374191   \n",
       "3 2018-04-01  522825.571517  472039.701769  501049.028019  522825.571517   \n",
       "4 2018-05-01  526613.504373  471942.593207  501659.444397  526613.504373   \n",
       "\n",
       "     trend_upper  additive_terms  additive_terms_lower  additive_terms_upper  \\\n",
       "0  511461.772800    20495.376880          20495.376880          20495.376880   \n",
       "1  515375.970154   -16673.693264         -16673.693264         -16673.693264   \n",
       "2  518911.374191    40079.151032          40079.151032          40079.151032   \n",
       "3  522825.571517   -36390.263478         -36390.263478         -36390.263478   \n",
       "4  526613.504373   -40108.780639         -40108.780639         -40108.780639   \n",
       "\n",
       "         yearly  yearly_lower  yearly_upper  multiplicative_terms  \\\n",
       "0  20495.376880  20495.376880  20495.376880                   0.0   \n",
       "1 -16673.693264 -16673.693264 -16673.693264                   0.0   \n",
       "2  40079.151032  40079.151032  40079.151032                   0.0   \n",
       "3 -36390.263478 -36390.263478 -36390.263478                   0.0   \n",
       "4 -40108.780639 -40108.780639 -40108.780639                   0.0   \n",
       "\n",
       "   multiplicative_terms_lower  multiplicative_terms_upper           yhat  \n",
       "0                         0.0                         0.0  531957.149680  \n",
       "1                         0.0                         0.0  498702.276890  \n",
       "2                         0.0                         0.0  558990.525222  \n",
       "3                         0.0                         0.0  486435.308039  \n",
       "4                         0.0                         0.0  486504.723735  "
      ]
     },
     "execution_count": 26,
     "metadata": {},
     "output_type": "execute_result"
    }
   ],
   "source": [
    "ups_predictions.head()"
   ]
  },
  {
   "cell_type": "code",
   "execution_count": 23,
   "metadata": {},
   "outputs": [
    {
     "data": {
      "text/plain": [
       "25114.916666666668"
      ]
     },
     "execution_count": 23,
     "metadata": {},
     "output_type": "execute_result"
    }
   ],
   "source": [
    "np.sqrt(ups_test_predictions.difference ** 2).mean()"
   ]
  },
  {
   "cell_type": "code",
   "execution_count": 24,
   "metadata": {},
   "outputs": [
    {
     "data": {
      "text/html": [
       "<div>\n",
       "<style scoped>\n",
       "    .dataframe tbody tr th:only-of-type {\n",
       "        vertical-align: middle;\n",
       "    }\n",
       "\n",
       "    .dataframe tbody tr th {\n",
       "        vertical-align: top;\n",
       "    }\n",
       "\n",
       "    .dataframe thead th {\n",
       "        text-align: right;\n",
       "    }\n",
       "</style>\n",
       "<table border=\"1\" class=\"dataframe\">\n",
       "  <thead>\n",
       "    <tr style=\"text-align: right;\">\n",
       "      <th></th>\n",
       "      <th>ds</th>\n",
       "      <th>yhat</th>\n",
       "      <th>y</th>\n",
       "      <th>difference</th>\n",
       "    </tr>\n",
       "  </thead>\n",
       "  <tbody>\n",
       "    <tr>\n",
       "      <th>0</th>\n",
       "      <td>2022-01-01</td>\n",
       "      <td>473347.0</td>\n",
       "      <td>480225.0</td>\n",
       "      <td>-6878.0</td>\n",
       "    </tr>\n",
       "    <tr>\n",
       "      <th>1</th>\n",
       "      <td>2022-02-01</td>\n",
       "      <td>441804.0</td>\n",
       "      <td>439230.0</td>\n",
       "      <td>2574.0</td>\n",
       "    </tr>\n",
       "    <tr>\n",
       "      <th>2</th>\n",
       "      <td>2022-03-01</td>\n",
       "      <td>503613.0</td>\n",
       "      <td>512435.0</td>\n",
       "      <td>-8822.0</td>\n",
       "    </tr>\n",
       "    <tr>\n",
       "      <th>3</th>\n",
       "      <td>2022-04-01</td>\n",
       "      <td>432644.0</td>\n",
       "      <td>421661.0</td>\n",
       "      <td>10983.0</td>\n",
       "    </tr>\n",
       "    <tr>\n",
       "      <th>4</th>\n",
       "      <td>2022-05-01</td>\n",
       "      <td>434289.0</td>\n",
       "      <td>424589.0</td>\n",
       "      <td>9700.0</td>\n",
       "    </tr>\n",
       "    <tr>\n",
       "      <th>5</th>\n",
       "      <td>2022-06-01</td>\n",
       "      <td>389150.0</td>\n",
       "      <td>366025.0</td>\n",
       "      <td>23125.0</td>\n",
       "    </tr>\n",
       "    <tr>\n",
       "      <th>6</th>\n",
       "      <td>2022-07-01</td>\n",
       "      <td>333587.0</td>\n",
       "      <td>292820.0</td>\n",
       "      <td>40767.0</td>\n",
       "    </tr>\n",
       "    <tr>\n",
       "      <th>7</th>\n",
       "      <td>2022-08-01</td>\n",
       "      <td>363497.0</td>\n",
       "      <td>329422.0</td>\n",
       "      <td>34075.0</td>\n",
       "    </tr>\n",
       "    <tr>\n",
       "      <th>8</th>\n",
       "      <td>2022-09-01</td>\n",
       "      <td>374652.0</td>\n",
       "      <td>341135.0</td>\n",
       "      <td>33517.0</td>\n",
       "    </tr>\n",
       "    <tr>\n",
       "      <th>9</th>\n",
       "      <td>2022-10-01</td>\n",
       "      <td>554045.0</td>\n",
       "      <td>570999.0</td>\n",
       "      <td>-16954.0</td>\n",
       "    </tr>\n",
       "    <tr>\n",
       "      <th>10</th>\n",
       "      <td>2022-11-01</td>\n",
       "      <td>623927.0</td>\n",
       "      <td>658845.0</td>\n",
       "      <td>-34918.0</td>\n",
       "    </tr>\n",
       "    <tr>\n",
       "      <th>11</th>\n",
       "      <td>2022-12-01</td>\n",
       "      <td>794593.0</td>\n",
       "      <td>878460.0</td>\n",
       "      <td>-83867.0</td>\n",
       "    </tr>\n",
       "  </tbody>\n",
       "</table>\n",
       "</div>"
      ],
      "text/plain": [
       "           ds      yhat         y  difference\n",
       "0  2022-01-01  473347.0  480225.0     -6878.0\n",
       "1  2022-02-01  441804.0  439230.0      2574.0\n",
       "2  2022-03-01  503613.0  512435.0     -8822.0\n",
       "3  2022-04-01  432644.0  421661.0     10983.0\n",
       "4  2022-05-01  434289.0  424589.0      9700.0\n",
       "5  2022-06-01  389150.0  366025.0     23125.0\n",
       "6  2022-07-01  333587.0  292820.0     40767.0\n",
       "7  2022-08-01  363497.0  329422.0     34075.0\n",
       "8  2022-09-01  374652.0  341135.0     33517.0\n",
       "9  2022-10-01  554045.0  570999.0    -16954.0\n",
       "10 2022-11-01  623927.0  658845.0    -34918.0\n",
       "11 2022-12-01  794593.0  878460.0    -83867.0"
      ]
     },
     "execution_count": 24,
     "metadata": {},
     "output_type": "execute_result"
    }
   ],
   "source": [
    "fdxg_test_predictions = pd.merge(\n",
    "    left=fdxg_predictions[['ds', 'yhat']],\n",
    "    right=fdxg_test[['ds', 'y']],\n",
    "    how='inner',\n",
    "    on='ds'\n",
    ")\n",
    "\n",
    "fdxg_test_predictions.y = fdxg_test_predictions.y.round(0)\n",
    "fdxg_test_predictions.yhat = fdxg_test_predictions.yhat.round(0)\n",
    "fdxg_test_predictions['difference'] = fdxg_test_predictions.yhat - fdxg_test_predictions.y\n",
    "fdxg_test_predictions"
   ]
  },
  {
   "cell_type": "code",
   "execution_count": 25,
   "metadata": {},
   "outputs": [
    {
     "data": {
      "text/plain": [
       "25515.0"
      ]
     },
     "execution_count": 25,
     "metadata": {},
     "output_type": "execute_result"
    }
   ],
   "source": [
    "np.sqrt(fdxg_test_predictions.difference ** 2).mean()"
   ]
  }
 ],
 "metadata": {
  "kernelspec": {
   "display_name": "Python 3 (ipykernel)",
   "language": "python",
   "name": "python3"
  },
  "language_info": {
   "codemirror_mode": {
    "name": "ipython",
    "version": 3
   },
   "file_extension": ".py",
   "mimetype": "text/x-python",
   "name": "python",
   "nbconvert_exporter": "python",
   "pygments_lexer": "ipython3",
   "version": "3.11.5"
  }
 },
 "nbformat": 4,
 "nbformat_minor": 4
}
